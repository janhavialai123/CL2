{
 "cells": [
  {
   "cell_type": "markdown",
   "id": "11906b6f",
   "metadata": {},
   "source": [
    "# Write a program for pre-processing of a text document such as stop word removal, stemming. "
   ]
  },
  {
   "cell_type": "code",
   "execution_count": 1,
   "id": "b5eadc6f",
   "metadata": {},
   "outputs": [],
   "source": [
    "import nltk\n",
    "from nltk import word_tokenize,sent_tokenize\n",
    "from nltk.corpus import stopwords\n",
    "from nltk.stem import SnowballStemmer,WordNetLemmatizer"
   ]
  },
  {
   "cell_type": "code",
   "execution_count": 2,
   "id": "48c49a4a",
   "metadata": {},
   "outputs": [
    {
     "name": "stdout",
     "output_type": "stream",
     "text": [
      "['Hello', ',', 'Good', 'Morning', '.', 'How', 'are', 'you', 'all', '?', 'Have', 'a', 'great', 'learning', '.']\n",
      "['Hello, Good Morning.', 'How are you all?', 'Have a great learning.']\n"
     ]
    },
    {
     "name": "stderr",
     "output_type": "stream",
     "text": [
      "[nltk_data] Downloading package punkt to\n",
      "[nltk_data]     C:\\Users\\DELL\\AppData\\Roaming\\nltk_data...\n",
      "[nltk_data]   Package punkt is already up-to-date!\n"
     ]
    }
   ],
   "source": [
    "sentence=\"Hello, Good Morning. How are you all? Have a great learning.\"\n",
    "\n",
    "nltk.download('punkt')\n",
    "tokenized_Words=word_tokenize(sentence)\n",
    "tokenized_sent=sent_tokenize(sentence)\n",
    "\n",
    "print(tokenized_Words)\n",
    "print(tokenized_sent)"
   ]
  },
  {
   "cell_type": "code",
   "execution_count": 3,
   "id": "65591bd6",
   "metadata": {},
   "outputs": [
    {
     "name": "stdout",
     "output_type": "stream",
     "text": [
      "Uncleaned version:  ['Hello', ',', 'Good', 'Morning', '.', 'How', 'are', 'you', 'all', '?', 'Have', 'a', 'great', 'learning', '.']\n",
      "Cleaned version:  ['Hello', ',', 'Good', 'Morning', '.', 'How', '?', 'Have', 'great', 'learning', '.']\n"
     ]
    },
    {
     "name": "stderr",
     "output_type": "stream",
     "text": [
      "[nltk_data] Downloading package stopwords to\n",
      "[nltk_data]     C:\\Users\\DELL\\AppData\\Roaming\\nltk_data...\n",
      "[nltk_data]   Package stopwords is already up-to-date!\n"
     ]
    }
   ],
   "source": [
    "#stopwords removal\n",
    "\n",
    "nltk.download('stopwords')\n",
    "stop_words=stopwords.words('english')\n",
    "\n",
    "cleaned_token=[]\n",
    "for i in tokenized_Words:\n",
    "    if i not in stop_words:\n",
    "        cleaned_token.append(i)\n",
    "        \n",
    "print(\"Uncleaned version: \",tokenized_Words)\n",
    "print(\"Cleaned version: \",cleaned_token)"
   ]
  },
  {
   "cell_type": "code",
   "execution_count": 4,
   "id": "ab20901f",
   "metadata": {},
   "outputs": [
    {
     "name": "stdout",
     "output_type": "stream",
     "text": [
      "['hello', ',', 'good', 'morn', '.', 'how', 'are', 'you', 'all', '?', 'have', 'a', 'great', 'learn', '.']\n"
     ]
    }
   ],
   "source": [
    "#Stemming\n",
    "snowball_stemmer=SnowballStemmer('english')\n",
    "stemmed_words=[]\n",
    "for i in tokenized_Words:\n",
    "    stemmed=snowball_stemmer.stem(i)\n",
    "    stemmed_words.append(stemmed)\n",
    "print(stemmed_words)"
   ]
  },
  {
   "cell_type": "code",
   "execution_count": 5,
   "id": "7176097e",
   "metadata": {},
   "outputs": [
    {
     "name": "stderr",
     "output_type": "stream",
     "text": [
      "[nltk_data] Downloading package wordnet to\n",
      "[nltk_data]     C:\\Users\\DELL\\AppData\\Roaming\\nltk_data...\n",
      "[nltk_data]   Package wordnet is already up-to-date!\n"
     ]
    },
    {
     "name": "stdout",
     "output_type": "stream",
     "text": [
      "['Hello', ',', 'Good', 'Morning', '.', 'How', 'are', 'you', 'all', '?', 'Have', 'a', 'great', 'learning', '.']\n"
     ]
    }
   ],
   "source": [
    "#Lemmatizing\n",
    "nltk.download('wordnet')\n",
    "wordnet_lemmatizer=WordNetLemmatizer()\n",
    "\n",
    "lemmatized_words=[]\n",
    "for i in tokenized_Words:\n",
    "    lemmatized=wordnet_lemmatizer.lemmatize(i)\n",
    "    lemmatized_words.append(lemmatized)\n",
    "print(lemmatized_words)"
   ]
  },
  {
   "cell_type": "code",
   "execution_count": 20,
   "id": "4f654b76",
   "metadata": {},
   "outputs": [
    {
     "name": "stdout",
     "output_type": "stream",
     "text": [
      "['My', 'name', 'is', 'Janhavi', '.', 'I', 'like', 'swimming', '.', 'What', 'do', 'you', 'like', '?', '.', 'is', 'are', 'the']\n",
      "['My name is Janhavi.', 'I like swimming.', 'What do you like?.', 'is are the']\n",
      "['My', 'name', 'is', 'Janhavi', '.', 'I', 'like', 'swimming', '.', 'What', 'do', 'you', 'like', '?', '.', 'is', 'are', 'the']\n",
      "['My', 'name', 'Janhavi', '.', 'I', 'like', 'swimming', '.', 'What', 'like', '?', '.']\n",
      "['my', 'name', 'is', 'janhavi', '.', 'i', 'like', 'swim', '.', 'what', 'do', 'you', 'like', '?', '.', 'is', 'are', 'the']\n",
      "['My', 'name', 'is', 'Janhavi', '.', 'I', 'like', 'swimming', '.', 'What', 'do', 'you', 'like', '?', '.', 'is', 'are', 'the']\n"
     ]
    },
    {
     "name": "stderr",
     "output_type": "stream",
     "text": [
      "[nltk_data] Downloading package punkt to\n",
      "[nltk_data]     C:\\Users\\DELL\\AppData\\Roaming\\nltk_data...\n",
      "[nltk_data]   Package punkt is already up-to-date!\n",
      "[nltk_data] Downloading package stopwords to\n",
      "[nltk_data]     C:\\Users\\DELL\\AppData\\Roaming\\nltk_data...\n",
      "[nltk_data]   Package stopwords is already up-to-date!\n",
      "[nltk_data] Downloading package wordnet to\n",
      "[nltk_data]     C:\\Users\\DELL\\AppData\\Roaming\\nltk_data...\n",
      "[nltk_data]   Package wordnet is already up-to-date!\n"
     ]
    }
   ],
   "source": [
    "\n",
    "import nltk\n",
    "from nltk.corpus import stopwords\n",
    "from nltk.stem import SnowballStemmer,WordNetLemmatizer\n",
    "from nltk import word_tokenize,sent_tokenize\n",
    "\n",
    "sentence=\"My name is Janhavi. I like swimming. What do you like?. is are the\"\n",
    "nltk.download('punkt')\n",
    "word_tokenizer=word_tokenize(sentence)\n",
    "sent_tokenizer=sent_tokenize(sentence)\n",
    "\n",
    "print(word_tokenizer)\n",
    "print(sent_tokenizer)\n",
    "\n",
    "\n",
    "nltk.download('stopwords')\n",
    "stop_words=stopwords.words('english')\n",
    "\n",
    "cleaned_token=[]\n",
    "for i in word_tokenizer:\n",
    "\tif i not in stop_words:\n",
    "\t\tcleaned_token.append(i)\n",
    "print(word_tokenizer)\n",
    "print(cleaned_token)\n",
    "\n",
    "snowball_stemmer=SnowballStemmer('english')\n",
    "stemmed_words=[]\n",
    "for i in word_tokenizer:\n",
    "\tstemmed=snowball_stemmer.stem(i)\n",
    "\tstemmed_words.append(stemmed)\n",
    "print(stemmed_words)\n",
    "\n",
    "\n",
    "nltk.download('wordnet')\n",
    "wordnet_lemmatizer=WordNetLemmatizer()\n",
    "lemmatized_words=[]\n",
    "for i in word_tokenizer:\n",
    "    lemmatizer=wordnet_lemmatizer.lemmatize(i)\n",
    "    lemmatized_words.append(lemmatizer)\n",
    "print(lemmatized_words)"
   ]
  },
  {
   "cell_type": "code",
   "execution_count": null,
   "id": "a7a87a0f",
   "metadata": {},
   "outputs": [],
   "source": []
  }
 ],
 "metadata": {
  "kernelspec": {
   "display_name": "Python 3 (ipykernel)",
   "language": "python",
   "name": "python3"
  },
  "language_info": {
   "codemirror_mode": {
    "name": "ipython",
    "version": 3
   },
   "file_extension": ".py",
   "mimetype": "text/x-python",
   "name": "python",
   "nbconvert_exporter": "python",
   "pygments_lexer": "ipython3",
   "version": "3.11.4"
  }
 },
 "nbformat": 4,
 "nbformat_minor": 5
}
