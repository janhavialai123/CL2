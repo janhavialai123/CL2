{
 "cells": [
  {
   "cell_type": "code",
   "execution_count": 12,
   "id": "c5983c86",
   "metadata": {},
   "outputs": [],
   "source": [
    "import re\n",
    "import collections"
   ]
  },
  {
   "cell_type": "code",
   "execution_count": 13,
   "id": "2b2d2eb4",
   "metadata": {},
   "outputs": [],
   "source": [
    "documents={\n",
    "           1:\"This is the first document.It has some words.\",\n",
    "           2:\"This is second document.It has more words.\",\n",
    "           3:\"Third document has paragraphs.\",\n",
    "           4:\"Fourth Document has stories.\",\n",
    "          }"
   ]
  },
  {
   "cell_type": "code",
   "execution_count": 14,
   "id": "6dafb7cb",
   "metadata": {},
   "outputs": [],
   "source": [
    "def preprocess(text):\n",
    "    text=text.lower()\n",
    "    tokens=re.findall(r'\\w+',text)\n",
    "    return tokens"
   ]
  },
  {
   "cell_type": "code",
   "execution_count": 18,
   "id": "433de61f",
   "metadata": {},
   "outputs": [],
   "source": [
    "def build_inverted_index(documents):\n",
    "    inverted_index=collections.defaultdict(list)\n",
    "    for doc_id, document in documents.items():\n",
    "        tokens=preprocess(document)\n",
    "        for token in tokens:\n",
    "            inverted_index[token].append(doc_id)\n",
    "    return inverted_index"
   ]
  },
  {
   "cell_type": "code",
   "execution_count": 19,
   "id": "db972354",
   "metadata": {},
   "outputs": [],
   "source": [
    "def retrieve_documents(query,inverted_index):\n",
    "    query_tokens=preprocess(query)\n",
    "    result=set()\n",
    "     \n",
    "    for token in query_tokens:\n",
    "        if token in inverted_index:\n",
    "            if not result:\n",
    "                result=set(inverted_index[token])\n",
    "            else:\n",
    "                result=result.intersection(inverted_index[token])\n",
    "    return result"
   ]
  },
  {
   "cell_type": "code",
   "execution_count": 20,
   "id": "d7e8bc2b",
   "metadata": {},
   "outputs": [
    {
     "name": "stdout",
     "output_type": "stream",
     "text": [
      "Enter Query: words\n",
      "Query: words\n",
      "Matching Documents: {1, 2}\n"
     ]
    }
   ],
   "source": [
    "inverted_index=build_inverted_index(documents)\n",
    "query1=input(\"Enter Query: \")\n",
    "result1=retrieve_documents(query1,inverted_index)\n",
    "print(\"Query:\",query1)\n",
    "print(\"Matching Documents:\",result1)"
   ]
  },
  {
   "cell_type": "code",
   "execution_count": null,
   "id": "6cda714a",
   "metadata": {},
   "outputs": [],
   "source": []
  }
 ],
 "metadata": {
  "kernelspec": {
   "display_name": "Python 3 (ipykernel)",
   "language": "python",
   "name": "python3"
  },
  "language_info": {
   "codemirror_mode": {
    "name": "ipython",
    "version": 3
   },
   "file_extension": ".py",
   "mimetype": "text/x-python",
   "name": "python",
   "nbconvert_exporter": "python",
   "pygments_lexer": "ipython3",
   "version": "3.11.4"
  }
 },
 "nbformat": 4,
 "nbformat_minor": 5
}
